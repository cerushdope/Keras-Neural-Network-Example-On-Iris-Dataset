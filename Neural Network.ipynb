{
 "cells": [
  {
   "cell_type": "code",
   "execution_count": 1,
   "metadata": {},
   "outputs": [
    {
     "name": "stderr",
     "output_type": "stream",
     "text": [
      "Using TensorFlow backend.\n"
     ]
    }
   ],
   "source": [
    "#Library for reading data from file.\n",
    "import pandas  as pd\n",
    "#Neural network library.\n",
    "import keras\n",
    "#ML library method for splitting data into train and test.\n",
    "from sklearn.model_selection import train_test_split"
   ]
  },
  {
   "cell_type": "code",
   "execution_count": 2,
   "metadata": {},
   "outputs": [],
   "source": [
    "#Read data and change strings into numbers.\n",
    "complete_data = pd.read_csv(\"Iris.csv\")\n",
    "complete_data.Species = pd.factorize(complete_data.Species)[0]"
   ]
  },
  {
   "cell_type": "code",
   "execution_count": 3,
   "metadata": {
    "collapsed": true
   },
   "outputs": [],
   "source": [
    "#Change pandas dataframe into numpy matrix.\n",
    "numpy_data = complete_data.as_matrix()\n",
    "X = numpy_data[:, :-1]\n",
    "Y = numpy_data[:, -1:]"
   ]
  },
  {
   "cell_type": "code",
   "execution_count": 4,
   "metadata": {},
   "outputs": [],
   "source": [
    "#Split data into train/test data and change labels to one hot vectors. \n",
    "X_train, X_test, Y_train, Y_test = train_test_split(X, Y, test_size = 0.3, stratify = Y)\n",
    "Y_train = keras.utils.np_utils.to_categorical(Y_train.ravel(), num_classes=3)\n",
    "Y_test = keras.utils.np_utils.to_categorical(Y_test.ravel(), num_classes=3)"
   ]
  },
  {
   "cell_type": "code",
   "execution_count": 5,
   "metadata": {},
   "outputs": [],
   "source": [
    "#Build network with one hidden layer containing 32 neurons. Hidden layer activation is sigmoid and output activation is softmax.\n",
    "model = keras.models.Sequential()\n",
    "model.add(keras.layers.Dense(32, input_dim = X_train.shape[1], activation='sigmoid'))\n",
    "model.add(keras.layers.Dense(Y_train.shape[1], activation = \"softmax\"))\n",
    "model.compile(loss = 'categorical_crossentropy', optimizer = keras.optimizers.Adam(lr=0.001), metrics=['accuracy'])"
   ]
  },
  {
   "cell_type": "code",
   "execution_count": 6,
   "metadata": {
    "scrolled": true
   },
   "outputs": [],
   "source": [
    "#Train model on train data. Change to verbose = 1 if you want to see the progress.\n",
    "hist = model.fit(X_train, Y_train, epochs=300, batch_size=16, validation_split = 0.18, verbose=0)"
   ]
  },
  {
   "cell_type": "code",
   "execution_count": 7,
   "metadata": {},
   "outputs": [
    {
     "name": "stdout",
     "output_type": "stream",
     "text": [
      "105/105 [==============================] - 0s 143us/step\n",
      "45/45 [==============================] - 0s 211us/step\n",
      "Train:  100.0  Test:  100.0\n"
     ]
    }
   ],
   "source": [
    "#Evaluate model.\n",
    "train_scores = model.evaluate(X_train, Y_train)\n",
    "test_scores = model.evaluate(X_test, Y_test)\n",
    "    \n",
    "print (\"Train: \", train_scores[1]*100, \" Test: \", test_scores[1]*100)"
   ]
  }
 ],
 "metadata": {
  "kernelspec": {
   "display_name": "Python 3",
   "language": "python",
   "name": "python3"
  },
  "language_info": {
   "codemirror_mode": {
    "name": "ipython",
    "version": 3
   },
   "file_extension": ".py",
   "mimetype": "text/x-python",
   "name": "python",
   "nbconvert_exporter": "python",
   "pygments_lexer": "ipython3",
   "version": "3.6.1"
  }
 },
 "nbformat": 4,
 "nbformat_minor": 2
}
